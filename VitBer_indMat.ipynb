{
 "cells": [
  {
   "cell_type": "code",
   "execution_count": null,
   "metadata": {},
   "outputs": [],
   "source": [
    "import numpy as np\n",
    "import matplotlib.pyplot as plt"
   ]
  },
  {
   "cell_type": "markdown",
   "metadata": {},
   "source": [
    "#### Oppgave 1.1\n",
    "Gi et eksempel (som i likning (10)) på hvordan et datasett {x, y} ville sett ut for\n",
    "å trene en transformermodell for å predikere et heltall d gitt d = a · b + c der a, c\n",
    "er tosifrede heltall, mens b er et ettsifret heltall, altså 9 ≥ b ∈ Z\n",
    "\n",
    "Lengden av d vil kunne være på max 3 siffer (99*9 + 9 = 900)\n",
    "\n",
    "x = [a0, . . . , ar−1, b0, . . . , br−2, c0, . . . , cr−1]   ; der ai, bi, ci ∈ {0, . . . , 9}\n",
    "\n",
    "y = [d0, . . . , dr]\n",
    "\n",
    "---- i treningssettet skal man kanskje legge til noen av sifferene fra d?\n",
    "La r = ??, a = 86, b = 4, c = 28,\n",
    "da har vi x = [8, 6, 4, 2, 8], y = [3, 7, 2]\n",
    "\n",
    "Modellen vil gi oss z = [ˆz0, . . . , zˆ7] = fθ([8, 6, 4, 2, 8])\n",
    "vi ønsker å finne θ slik at ˆy = [ˆz5, zˆ6, zˆ7] = y = [3, 7, 2]."
   ]
  },
  {
   "cell_type": "markdown",
   "metadata": {},
   "source": [
    "#### Oppgave 1.2\n",
    "Når optimeringen er ferdig, hvordan kan vi bruke modellen fθ til å predikere d gitt\n",
    "a, b, c? Vis dette med et eksempel, på samme måte som i likning (11).\n",
    "\n",
    "x0 = [8,6,4,2,8]\n",
    "x1 = [8,6,4,2,8,^z]\n",
    "x2 = [8,6,4,2,8,^z,^z]\n",
    "x3 = [8,6,4,2,8,^z,^z,^z]\n",
    "\n",
    "sammenligner ^y med d for å se om modellen fungerer\n"
   ]
  },
  {
   "cell_type": "markdown",
   "metadata": {},
   "source": [
    "#### Oppgave 1.3\n",
    "Anta at vi bruker cross-entropy som objektfunksjon, at m = 5 og y = [4, 3, 2, 1].\n",
    "Hvilke diskret sannsynlighetsfordeling Yˆ ville gitt en objektfunksjon L(θ, D) = 0?\n",
    "Hva ville ˆy vært i dette tilfellet?\n",
    "\n",
    "Dersom Yˆ = Fθ(x) er identisk med onehot(y) får vi L(θ, D) = 0. Dette vil også\n",
    "bety at argmaxcol(^Y ) = ˆy = y."
   ]
  },
  {
   "cell_type": "markdown",
   "metadata": {},
   "source": [
    "#### Oppgave 1.4 \n",
    "Gitt d, m, nmax, k, p og L. Hvor mange enkeltparametre har en transformermodell? Med enkeltparametre mener vi hvor mange tall w ∈ R vi må bestemme ved optimering. En matrise W ∈ R^m×n består av m · n tall eller enkeltparametre.\n",
    "\n",
    "d: Dimensjonen til vektorene i modellen\n",
    "m: antall rader i \n",
    "n: lengde heltallsvektor/vokabulærvektor\n",
    "\n"
   ]
  }
 ],
 "metadata": {
  "language_info": {
   "name": "python"
  }
 },
 "nbformat": 4,
 "nbformat_minor": 2
}
