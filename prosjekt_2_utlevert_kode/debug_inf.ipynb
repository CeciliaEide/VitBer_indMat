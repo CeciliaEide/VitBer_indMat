{
 "cells": [
  {
   "cell_type": "code",
   "execution_count": 1,
   "metadata": {},
   "outputs": [
    {
     "name": "stdout",
     "output_type": "stream",
     "text": [
      "Iterasjon  0  L =  4.285898260558518 \n",
      "Iterasjon  1  L =  5.77273711434824 \n",
      "Iterasjon  2  L =  32.09293392067157 \n"
     ]
    },
    {
     "name": "stderr",
     "output_type": "stream",
     "text": [
      "c:\\Users\\Bruker\\Documents\\04_STUDIE\\VitBer\\TMA4320-IndMat\\VitBer_indMat\\prosjekt_2_utlevert_kode\\layers.py:180: RuntimeWarning: divide by zero encountered in log\n",
      "  q = -np.log(p) #naturlig eller tier logaritme? /Dele på noe?\n"
     ]
    },
    {
     "name": "stdout",
     "output_type": "stream",
     "text": [
      "Iterasjon  3  L =  inf \n",
      "Iterasjon  4  L =  inf \n",
      "Iterasjon  5  L =  inf \n",
      "Iterasjon  6  L =  inf \n",
      "Iterasjon  7  L =  inf \n",
      "Iterasjon  8  L =  inf \n",
      "Iterasjon  9  L =  inf \n",
      "Iterasjon  10  L =  inf \n",
      "Iterasjon  11  L =  inf \n",
      "Iterasjon  12  L =  inf \n",
      "Iterasjon  13  L =  inf \n",
      "Iterasjon  14  L =  inf \n",
      "Iterasjon  15  L =  inf \n",
      "Iterasjon  16  L =  inf \n"
     ]
    }
   ],
   "source": [
    "import numpy as np\n",
    "import matplotlib.pyplot as plt\n",
    "\n",
    "from training_algorithm import TrainingAlgorithm\n",
    "\n",
    "nn_adding, mean_losses_adding = TrainingAlgorithm(1)\n",
    "\n",
    "n = np.arange(1, len(mean_losses_adding)+1)\n",
    "\n",
    "plt.xlabel('Antall iterasjoner')\n",
    "plt.ylabel('Gjennomsnittlig verdi av L')\n",
    "plt.yscale(\"log\")\n",
    "plt.plot(n, mean_losses_adding)"
   ]
  },
  {
   "cell_type": "markdown",
   "metadata": {},
   "source": [
    "Under trening av algoritmen opplever vi to større feil ved minimering av Loss-funksjonen:\n",
    "**Feil 1:** Både step_Adam og step_gd gir en økning i verdien til Loss-funksjonen. Step_Adam varierer før den divergerer, til forskjell fra step_gd som er helt lineær og svakt økende.\\\n",
    "**Feil 2:** Bruk av step_Adam gir \"RuntimeWarning: divide by zero encountered in log q = -np.log(p)\" for attention forward. \n",
    "\n",
    "Under debuggingen  har vi utforsket følgende hypoteser: \n",
    "1) Matriseelementer i p i attention forward er lik null, og np.log(p) gir feilmenldinger da logaritmen til 0 ikke eksisterer. Det er flere grunner til at p kan bli lik null, blant dem:\n",
    "    - self.Y = onehot(y,m) blir null: dersom onehot ikke fungerer som den skal og og ikke leverer verdier lik 1 vil den kunne gi en null-matrise for self.Y = onehot(y,m). Vi sjekket derfor max-verdien i hver kolonne til onehot-matrisen og fikk at samtlige hadde en verdi 1. Onehot fungerer derfor tilsynelatende som den skal. \n",
    "    - self.Y_hat = Z[:,:,-r:] blir null: dersom Z = nn.forward(X) ikke fungerer slik den skal vil den kunne gi ut en Z som blir enten null eller veldig liten. Til å teste dette printet vi retur-verdien til hvert lag i forward. Vi oppdager at flere verdier i softmax divergerer mot null men tester samtidig kollonnesummene og ser at disse er lik 1 (eller tilnærmet lik +-10**-8). Siden Softmax er en sannsynlighetsfordeling kan det stemme at flere av elementene har sannsynligheter som er nærmest lik null, og siden kollonnesummene stemmer finner vi ingen åpenbare kilder til feil for Z.\n",
    "2) Dimensjonsfeil \n",
    "    - dersom slizingen av Z ikke er gjort riktig og gir feil self.Y_hat = Z kan dette være en kilde til feil. Her sjekket vi derfor at både Y_hat og Y har like dimensjoner (\"legge inn dim her\")\n",
    "    - feil bruk av einsum vil kunne gi feile dimensjoner som kan gå utover f.eks np.sum()-funksjonene som behandler sannsynlighetsfordelingene i forward pass eller på andre måter gjøre at informasjon går tapt i nettverket. Vi printet \"shapen\" til matrisene og forsikret oss om at de gir ut riktige dimensjoner. \n",
    "3) Feil i Adam (løser ikke problemet for step_gd)\n",
    "\n",
    "\n"
   ]
  },
  {
   "cell_type": "markdown",
   "metadata": {},
   "source": [
    "--------------notater--------------------\n",
    "\n",
    "Tester nn.forward(X)\n",
    "* printer return-verdien til hvert lag. Oppdager at softmax divergerer mot null. Printer kollonnesummene, disse er lik 1 (eller tilnærmet lik +-10**-8). Siden Softmax er en sannsynlighetsfordeling kan det stemme at flere av elementene har sannsynligheter som er nærmest lik null.\n",
    "* teori: onehot gir kun ut 0-elementer? Sjekket max i hver kollonne, får ut 1. Onehot fungerer derfor som den skal. \n",
    "\n",
    "\n",
    "* Generelt sjekket at\\\n",
    "    - ...einsum er brukt korrekt. Feil bruk av einsum vil kunne gi feile dimensjoner som kan gå utover f.eks np.sum()-funksjonene som behandler sannsynlighetsfordelingene eller på andre måter gjøre at informasjon går tapt i nettverket. Vi printet \"shapen\" til matrisene og forsikret oss om at de gir ut riktige dimensjoner. \n",
    "    - \n",
    "\n",
    "Denne ligger i attention forward\n",
    "\n",
    "Sjekker hva som kan gi feil i p og elementene som utgjør p: p = np.sum(np.multiply(self.Y_hat,self.Y),axis=1). \n",
    "* self.Y: baserer seg på y. Testet at riktig hentet ut fra data_generators. Testet begge metodene, altså både å slice y med gammel data_generators og å hente ut y med riktig størrelse fra nye data_genarators. Da dette ikke utgjorde en forskjell benyttet vi videre ny og oppdattert data_generators\n",
    "* self.Y_hat: divergerer mot null. Denne er en slicing av Z, har Z = nn.forward(X)\n",
    "* sjekker at dimensjonene til Y og Y_hat er like.\n",
    "\n"
   ]
  },
  {
   "cell_type": "code",
   "execution_count": null,
   "metadata": {},
   "outputs": [
    {
     "name": "stdout",
     "output_type": "stream",
     "text": [
      "Iterasjon  0  L =  2.3083778123221554 \n",
      "Iterasjon  1  L =  2.3083905701260368 \n",
      "Iterasjon  2  L =  2.308403329444613 \n",
      "Iterasjon  3  L =  2.308416090281731 \n",
      "Iterasjon  4  L =  2.3084288526578702 \n",
      "Iterasjon  5  L =  2.308441618991911 \n",
      "Iterasjon  6  L =  2.3084544042827053 \n",
      "Iterasjon  7  L =  2.3084671953293183 \n",
      "Iterasjon  8  L =  2.3084799881376994 \n",
      "Iterasjon  9  L =  2.308492782859656 \n",
      "Iterasjon  10  L =  2.308505578129202 \n",
      "Iterasjon  11  L =  2.3085183744581665 \n",
      "Iterasjon  12  L =  2.308531172347815 \n",
      "Iterasjon  13  L =  2.308543971797592 \n",
      "Iterasjon  14  L =  2.3085567719429987 \n",
      "Iterasjon  15  L =  2.308569574983344 \n",
      "Iterasjon  16  L =  2.3085823832931416 \n",
      "Iterasjon  17  L =  2.3085951933231943 \n",
      "Iterasjon  18  L =  2.308608004937965 \n",
      "Iterasjon  19  L =  2.3086208181412653 \n",
      "Iterasjon  20  L =  2.308633632936906 \n",
      "Iterasjon  21  L =  2.308646449328691 \n",
      "Iterasjon  22  L =  2.308659267320426 \n",
      "Iterasjon  23  L =  2.308672086915908 \n",
      "Iterasjon  24  L =  2.308684907868142 \n",
      "Iterasjon  25  L =  2.308697730067145 \n",
      "Iterasjon  26  L =  2.308710553741022 \n",
      "Iterasjon  27  L =  2.30872337883174 \n",
      "Iterasjon  28  L =  2.308736205542802 \n",
      "Iterasjon  29  L =  2.3087490338779912 \n",
      "Iterasjon  30  L =  2.3087618638410854 \n",
      "Iterasjon  31  L =  2.308774695760937 \n",
      "Iterasjon  32  L =  2.3087875367159993 \n",
      "Iterasjon  33  L =  2.308800388820882 \n",
      "Iterasjon  34  L =  2.308813242563598 \n",
      "Iterasjon  35  L =  2.308826097949516 \n",
      "Iterasjon  36  L =  2.308838954982396 \n",
      "Iterasjon  37  L =  2.3088518138155973 \n",
      "Iterasjon  38  L =  2.3088646746214154 \n",
      "Iterasjon  39  L =  2.308877536992464 \n",
      "Iterasjon  40  L =  2.308890401024865 \n",
      "Iterasjon  41  L =  2.3089032667223592 \n",
      "Iterasjon  42  L =  2.308916134088684 \n",
      "Iterasjon  43  L =  2.3089290029335467 \n",
      "Iterasjon  44  L =  2.3089418732873455 \n",
      "Iterasjon  45  L =  2.3089547453395225 \n",
      "Iterasjon  46  L =  2.3089676190751782 \n",
      "Iterasjon  47  L =  2.308980494498036 \n",
      "Iterasjon  48  L =  2.308993371611815 \n",
      "Iterasjon  49  L =  2.3090062503669992 \n",
      "Iterasjon  50  L =  2.3090191213990265 \n",
      "Iterasjon  51  L =  2.3090319900063276 \n",
      "Iterasjon  52  L =  2.3090448600419142 \n",
      "Iterasjon  53  L =  2.309057731646653 \n",
      "Iterasjon  54  L =  2.3090706049649468 \n",
      "Iterasjon  55  L =  2.309083480000499 \n",
      "Iterasjon  56  L =  2.3090963567570086 \n",
      "Iterasjon  57  L =  2.3091092345221256 \n",
      "Iterasjon  58  L =  2.3091221135985145 \n",
      "Iterasjon  59  L =  2.3091349923495246 \n",
      "Iterasjon  60  L =  2.309147871363619 \n",
      "Iterasjon  61  L =  2.309160752087684 \n",
      "Iterasjon  62  L =  2.309173634426884 \n",
      "Iterasjon  63  L =  2.3091865188267047 \n",
      "Iterasjon  64  L =  2.3091994053607388 \n",
      "Iterasjon  65  L =  2.3092122935424637 \n",
      "Iterasjon  66  L =  2.3092251837845765 \n",
      "Iterasjon  67  L =  2.3092380751351462 \n",
      "Iterasjon  68  L =  2.3092509682267552 \n",
      "Iterasjon  69  L =  2.3092638625278914 \n",
      "Iterasjon  70  L =  2.309276758091132 \n",
      "Iterasjon  71  L =  2.309289655449758 \n",
      "Iterasjon  72  L =  2.309302554950374 \n",
      "Iterasjon  73  L =  2.30931545556854 \n",
      "Iterasjon  74  L =  2.3093283572717356 \n",
      "Iterasjon  75  L =  2.3093412614078153 \n",
      "Iterasjon  76  L =  2.309354167341685 \n",
      "Iterasjon  77  L =  2.309367088003796 \n",
      "Iterasjon  78  L =  2.3093800237365527 \n",
      "Iterasjon  79  L =  2.309392960328595 \n",
      "Iterasjon  80  L =  2.3094058989724275 \n",
      "Iterasjon  81  L =  2.3094188394358905 \n",
      "Iterasjon  82  L =  2.3094317815290557 \n",
      "Iterasjon  83  L =  2.3094447249430976 \n",
      "Iterasjon  84  L =  2.3094576704726846 \n",
      "Iterasjon  85  L =  2.3094706176873756 \n",
      "Iterasjon  86  L =  2.3094835667458393 \n",
      "Iterasjon  87  L =  2.309496517651641 \n",
      "Iterasjon  88  L =  2.3095094704083747 \n",
      "Iterasjon  89  L =  2.3095224250196336 \n",
      "Iterasjon  90  L =  2.3095353814890065 \n",
      "Iterasjon  91  L =  2.30954833982008 \n",
      "Iterasjon  92  L =  2.309561300016435 \n",
      "Iterasjon  93  L =  2.3095742620816515 \n",
      "Iterasjon  94  L =  2.3095872260193056 \n",
      "Iterasjon  95  L =  2.3096001912578696 \n",
      "Iterasjon  96  L =  2.3096131586926654 \n",
      "Iterasjon  97  L =  2.309626132751189 \n",
      "Iterasjon  98  L =  2.3096391094978355 \n",
      "Iterasjon  99  L =  2.3096520881658713 \n"
     ]
    },
    {
     "data": {
      "text/plain": [
       "[<matplotlib.lines.Line2D at 0x1f9374b9550>]"
      ]
     },
     "execution_count": 2,
     "metadata": {},
     "output_type": "execute_result"
    },
    {
     "data": {
      "image/png": "[encoded data removed]",
      "text/plain": [
       "<Figure size 432x288 with 1 Axes>"
      ]
     },
     "metadata": {
      "needs_background": "light"
     },
     "output_type": "display_data"
    }
   ],
   "source": [
    "import numpy as np\n",
    "import matplotlib.pyplot as plt\n",
    "\n",
    "from training_algorithm import TrainingAlgorithm\n",
    "\n",
    "nn_adding, mean_losses_adding = TrainingAlgorithm(0)\n",
    "\n",
    "n = np.arange(1, len(mean_losses_adding)+1)\n",
    "\n",
    "plt.xlabel('Antall iterasjoner')\n",
    "plt.ylabel('Gjennomsnittlig verdi av L')\n",
    "plt.yscale(\"log\")\n",
    "plt.plot(n, mean_losses_adding)"
   ]
  },
  {
   "cell_type": "code",
   "execution_count": null,
   "metadata": {},
   "outputs": [],
   "source": []
  }
 ],
 "metadata": {
  "kernelspec": {
   "display_name": "base",
   "language": "python",
   "name": "python3"
  },
  "language_info": {
   "codemirror_mode": {
    "name": "ipython",
    "version": 3
   },
   "file_extension": ".py",
   "mimetype": "text/x-python",
   "name": "python",
   "nbconvert_exporter": "python",
   "pygments_lexer": "ipython3",
   "version": "3.9.12"
  }
 },
 "nbformat": 4,
 "nbformat_minor": 2
}
