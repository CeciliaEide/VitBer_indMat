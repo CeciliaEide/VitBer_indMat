{
 "cells": [
  {
   "cell_type": "code",
   "execution_count": 2,
   "metadata": {},
   "outputs": [
    {
     "name": "stdout",
     "output_type": "stream",
     "text": [
      "Iterasjon  0  L =  20005.833626260155 \n",
      "Iterasjon  1  L =  23460.405346622527 \n",
      "Iterasjon  2  L =  50776.753639878436 \n",
      "Iterasjon  3  L =  117757.1534102324 \n",
      "Iterasjon  4  L =  141036.35611099572 \n",
      "Iterasjon  5  L =  143575.62942654104 \n",
      "Iterasjon  6  L =  144915.10457777 \n",
      "Iterasjon  7  L =  144579.46681151827 \n",
      "Iterasjon  8  L =  141894.19447743375 \n",
      "Iterasjon  9  L =  135704.34621983423 \n",
      "Iterasjon  10  L =  140002.0271221486 \n",
      "Iterasjon  11  L =  148163.92678005798 \n",
      "Iterasjon  12  L =  146410.96058081154 \n",
      "Iterasjon  13  L =  146043.83752583916 \n",
      "Iterasjon  14  L =  146900.2815453655 \n",
      "Iterasjon  15  L =  144688.60710256436 \n",
      "Iterasjon  16  L =  138703.19412408958 \n",
      "Iterasjon  17  L =  141827.5291753067 \n",
      "Iterasjon  18  L =  145313.4520551876 \n",
      "Iterasjon  19  L =  146331.86757018347 \n",
      "Iterasjon  20  L =  150968.36899506394 \n",
      "Iterasjon  21  L =  150916.43735722764 \n",
      "Iterasjon  22  L =  151049.66294019736 \n",
      "Iterasjon  23  L =  150225.44025396992 \n",
      "Iterasjon  24  L =  149582.95380587224 \n",
      "Iterasjon  25  L =  149713.10516522062 \n",
      "Iterasjon  26  L =  149651.69814641922 \n",
      "Iterasjon  27  L =  149326.74962970248 \n",
      "Iterasjon  28  L =  143882.59954414362 \n",
      "Iterasjon  29  L =  140173.37511546034 \n",
      "Iterasjon  30  L =  139201.44568053176 \n",
      "Iterasjon  31  L =  146432.87524032773 \n",
      "Iterasjon  32  L =  146800.47794616324 \n"
     ]
    }
   ],
   "source": [
    "import numpy as np\n",
    "import matplotlib.pyplot as plt\n",
    "\n",
    "from training_algorithm import TrainingAlgorithm\n",
    "\n",
    "nn_adding, mean_losses_adding = TrainingAlgorithm(1)\n",
    "\n",
    "n = np.arange(1, len(mean_losses_adding)+1)\n",
    "\n",
    "plt.xlabel('Antall iterasjoner')\n",
    "plt.ylabel('Gjennomsnittlig verdi av L')\n",
    "plt.yscale(\"log\")\n",
    "plt.plot(n, mean_losses_adding)"
   ]
  }
 ],
 "metadata": {
  "kernelspec": {
   "display_name": "base",
   "language": "python",
   "name": "python3"
  },
  "language_info": {
   "codemirror_mode": {
    "name": "ipython",
    "version": 3
   },
   "file_extension": ".py",
   "mimetype": "text/x-python",
   "name": "python",
   "nbconvert_exporter": "python",
   "pygments_lexer": "ipython3",
   "version": "3.9.12"
  }
 },
 "nbformat": 4,
 "nbformat_minor": 2
}
