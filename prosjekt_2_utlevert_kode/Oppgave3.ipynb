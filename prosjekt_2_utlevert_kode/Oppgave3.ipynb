{
 "cells": [
  {
   "cell_type": "code",
   "execution_count": 3,
   "metadata": {},
   "outputs": [],
   "source": [
    "import numpy as np\n",
    "import matplotlib.pyplot as plt"
   ]
  },
  {
   "cell_type": "markdown",
   "metadata": {},
   "source": [
    "**Oppgave 3**"
   ]
  },
  {
   "cell_type": "markdown",
   "metadata": {},
   "source": [
    "Vi har i filene layers.py og neural_network definert nødvendige klasser med tilhørende medlemsfunksjoner til å trene en transformermodell til å predikere neste tall i en sekvens. Vi skal gjøre dette og begynner med å trene en modell til å kunne addere to heltall. Parameterne skal da oppdateres slik at loss funksjonen blir mindre og mindre. Vi plotter gjennomsnittet av lossfunksjonen for ... som funksjon av antall iterasjoner og ser at dette blir tilfelle."
   ]
  },
  {
   "cell_type": "code",
   "execution_count": 4,
   "metadata": {},
   "outputs": [
    {
     "name": "stdout",
     "output_type": "stream",
     "text": [
      "Iterasjon  0  L =  95.75514882831138 \n",
      "Iterasjon  1  L =  95.75508986085022 \n",
      "Iterasjon  2  L =  95.75503090362642 \n",
      "Iterasjon  3  L =  95.75497195257813 \n",
      "Iterasjon  4  L =  95.75491300327649 \n",
      "Iterasjon  5  L =  95.75485405435893 \n",
      "Iterasjon  6  L =  95.75479510534483 \n",
      "Iterasjon  7  L =  95.75473615604871 \n",
      "Iterasjon  8  L =  95.75467720639172 \n",
      "Iterasjon  9  L =  95.75461825633589 \n",
      "Iterasjon  10  L =  95.75455930586044 \n",
      "Iterasjon  11  L =  95.754500354952 \n",
      "Iterasjon  12  L =  95.75444140360136 \n",
      "Iterasjon  13  L =  95.75438245180159 \n",
      "Iterasjon  14  L =  95.75432349954717 \n",
      "Iterasjon  15  L =  95.75426454683358 \n",
      "Iterasjon  16  L =  95.75420559365706 \n",
      "Iterasjon  17  L =  95.75414664001438 \n",
      "Iterasjon  18  L =  95.75408768590279 \n",
      "Iterasjon  19  L =  95.75402873131978 \n",
      "Iterasjon  20  L =  95.75396977626313 \n",
      "Iterasjon  21  L =  95.7539108207309 \n",
      "Iterasjon  22  L =  95.75385186472118 \n",
      "Iterasjon  23  L =  95.75379290823243 \n",
      "Iterasjon  24  L =  95.75373395126293 \n",
      "Iterasjon  25  L =  95.75367499381127 \n",
      "Iterasjon  26  L =  95.75361603587616 \n",
      "Iterasjon  27  L =  95.75355707745624 \n",
      "Iterasjon  28  L =  95.75349811855024 \n",
      "Iterasjon  29  L =  95.75343915915694 \n",
      "Iterasjon  30  L =  95.7533801992753 \n",
      "Iterasjon  31  L =  95.75332123890412 \n",
      "Iterasjon  32  L =  95.75326227804247 \n",
      "Iterasjon  33  L =  95.7532033166891 \n",
      "Iterasjon  34  L =  95.75314435484312 \n",
      "Iterasjon  35  L =  95.75308539250358 \n",
      "Iterasjon  36  L =  95.7530264296694 \n",
      "Iterasjon  37  L =  95.75296746633971 \n",
      "Iterasjon  38  L =  95.75290850251363 \n",
      "Iterasjon  39  L =  95.75284953819009 \n",
      "Iterasjon  40  L =  95.75279057336833 \n",
      "Iterasjon  41  L =  95.75273160804741 \n",
      "Iterasjon  42  L =  95.75267264222641 \n",
      "Iterasjon  43  L =  95.75261367590454 \n",
      "Iterasjon  44  L =  95.7525547090809 \n",
      "Iterasjon  45  L =  95.75249574175469 \n",
      "Iterasjon  46  L =  95.75243677392497 \n",
      "Iterasjon  47  L =  95.75237780559101 \n",
      "Iterasjon  48  L =  95.75231883675194 \n",
      "Iterasjon  49  L =  95.75225986740692 \n",
      "Iterasjon  50  L =  95.75220089755518 \n",
      "Iterasjon  51  L =  95.7521419271959 \n",
      "Iterasjon  52  L =  95.75208295632822 \n",
      "Iterasjon  53  L =  95.75202398495145 \n",
      "Iterasjon  54  L =  95.75196501306478 \n",
      "Iterasjon  55  L =  95.7519060406673 \n",
      "Iterasjon  56  L =  95.75184706775835 \n",
      "Iterasjon  57  L =  95.75178809433713 \n",
      "Iterasjon  58  L =  95.75172912040284 \n",
      "Iterasjon  59  L =  95.75167014595469 \n",
      "Iterasjon  60  L =  95.75161117099192 \n",
      "Iterasjon  61  L =  95.75155219551378 \n",
      "Iterasjon  62  L =  95.75149321951953 \n",
      "Iterasjon  63  L =  95.75143424300838 \n",
      "Iterasjon  64  L =  95.75137526597948 \n",
      "Iterasjon  65  L =  95.75131628843228 \n",
      "Iterasjon  66  L =  95.75125731036584 \n",
      "Iterasjon  67  L =  95.7511983317795 \n",
      "Iterasjon  68  L =  95.75113935267255 \n",
      "Iterasjon  69  L =  95.7510803730441 \n",
      "Iterasjon  70  L =  95.75102139289356 \n",
      "Iterasjon  71  L =  95.75096241222006 \n",
      "Iterasjon  72  L =  95.75090343102302 \n",
      "Iterasjon  73  L =  95.75084444930154 \n",
      "Iterasjon  74  L =  95.75078546705498 \n",
      "Iterasjon  75  L =  95.75072648428254 \n",
      "Iterasjon  76  L =  95.7506675009836 \n",
      "Iterasjon  77  L =  95.75060851715732 \n",
      "Iterasjon  78  L =  95.75054953280303 \n",
      "Iterasjon  79  L =  95.75049054792001 \n",
      "Iterasjon  80  L =  95.75043156250746 \n",
      "Iterasjon  81  L =  95.75037257656474 \n",
      "Iterasjon  82  L =  95.75031359009112 \n",
      "Iterasjon  83  L =  95.75025460308582 \n",
      "Iterasjon  84  L =  95.75019561554826 \n",
      "Iterasjon  85  L =  95.75013662747754 \n",
      "Iterasjon  86  L =  95.75007763887317 \n",
      "Iterasjon  87  L =  95.7500186497342 \n",
      "Iterasjon  88  L =  95.74995966006007 \n",
      "Iterasjon  89  L =  95.74990066985008 \n",
      "Iterasjon  90  L =  95.74984167910343 \n",
      "Iterasjon  91  L =  95.74978268781948 \n",
      "Iterasjon  92  L =  95.7497236959975 \n",
      "Iterasjon  93  L =  95.74966470363682 \n",
      "Iterasjon  94  L =  95.74960571073673 \n",
      "Iterasjon  95  L =  95.74954671729655 \n",
      "Iterasjon  96  L =  95.74948772331554 \n",
      "Iterasjon  97  L =  95.74942872879302 \n",
      "Iterasjon  98  L =  95.7493697337283 \n",
      "Iterasjon  99  L =  95.74931073812068 \n"
     ]
    },
    {
     "data": {
      "text/plain": [
       "\"\\nprosent = prosentSortetRight(nn_adding)\\nprint(f'Prosentandel av input som ble riktig med nåværende modell: {prosent}')\\n\""
      ]
     },
     "execution_count": 4,
     "metadata": {},
     "output_type": "execute_result"
    },
    {
     "data": {
      "image/png": "[encoded data removed]",
      "text/plain": [
       "<Figure size 432x288 with 1 Axes>"
      ]
     },
     "metadata": {
      "needs_background": "light"
     },
     "output_type": "display_data"
    }
   ],
   "source": [
    "from training_algorithm import TrainingAlgorithm, prosentSortetRight\n",
    "\n",
    "nn_adding, mean_losses_adding = TrainingAlgorithm(0)\n",
    "\n",
    "n = np.arange(1, len(mean_losses_adding)+1)\n",
    "\n",
    "plt.xlabel('Antall iterasjoner')\n",
    "plt.ylabel('Gjennomsnittlig verdi av L')\n",
    "plt.yscale(\"log\")\n",
    "plt.plot(n, mean_losses_adding)\n",
    "\n",
    "'''\n",
    "prosent = prosentSortetRight(nn_adding)\n",
    "print(f'Prosentandel av input som ble riktig med nåværende modell: {prosent}')\n",
    "'''"
   ]
  },
  {
   "cell_type": "markdown",
   "metadata": {},
   "source": []
  }
 ],
 "metadata": {
  "kernelspec": {
   "display_name": "base",
   "language": "python",
   "name": "python3"
  },
  "language_info": {
   "codemirror_mode": {
    "name": "ipython",
    "version": 3
   },
   "file_extension": ".py",
   "mimetype": "text/x-python",
   "name": "python",
   "nbconvert_exporter": "python",
   "pygments_lexer": "ipython3",
   "version": "3.9.5"
  }
 },
 "nbformat": 4,
 "nbformat_minor": 2
}
