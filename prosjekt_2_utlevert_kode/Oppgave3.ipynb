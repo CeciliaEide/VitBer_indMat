{
 "cells": [
  {
   "cell_type": "code",
   "execution_count": 1,
   "metadata": {},
   "outputs": [],
   "source": [
    "import numpy as np\n",
    "import matplotlib.pyplot as plt"
   ]
  },
  {
   "cell_type": "markdown",
   "metadata": {},
   "source": [
    "**Oppgave 3**"
   ]
  },
  {
   "cell_type": "markdown",
   "metadata": {},
   "source": [
    "Vi har i filene layers.py og neural_network definert nødvendige klasser med tilhørende medlemsfunksjoner til å trene en transformermodell til å predikere neste tall i en sekvens. Vi skal gjøre dette og begynner med å trene en modell til å kunne addere to heltall. Parameterne skal da oppdateres slik at loss funksjonen blir mindre og mindre. Vi plotter gjennomsnittet av lossfunksjonen for ... som funksjon av antall iterasjoner og ser at dette blir tilfelle."
   ]
  },
  {
   "cell_type": "code",
   "execution_count": 2,
   "metadata": {},
   "outputs": [
    {
     "name": "stdout",
     "output_type": "stream",
     "text": [
      "Iterasjon  0  L =  95.9463612470241 \n",
      "Iterasjon  1  L =  95.94634808484344 \n",
      "Iterasjon  2  L =  95.94633494898332 \n",
      "Iterasjon  3  L =  95.94632181752642 \n",
      "Iterasjon  4  L =  95.9463086881476 \n",
      "Iterasjon  5  L =  95.94629556004243 \n",
      "Iterasjon  6  L =  95.94628243283796 \n",
      "Iterasjon  7  L =  95.94626930633144 \n",
      "Iterasjon  8  L =  95.94625618039998 \n",
      "Iterasjon  9  L =  95.94624305496336 \n",
      "Iterasjon  10  L =  95.946229929966 \n",
      "Iterasjon  11  L =  95.94621680536785 \n",
      "Iterasjon  12  L =  95.94620368113895 \n",
      "Iterasjon  13  L =  95.94619055725644 \n",
      "Iterasjon  14  L =  95.94617743370232 \n",
      "Iterasjon  15  L =  95.94616431046231 \n",
      "Iterasjon  16  L =  95.94615118752473 \n",
      "Iterasjon  17  L =  95.9461380648801 \n",
      "Iterasjon  18  L =  95.94612494252053 \n",
      "Iterasjon  19  L =  95.94611182043931 \n",
      "Iterasjon  20  L =  95.94609869863085 \n",
      "Iterasjon  21  L =  95.94608557709036 \n",
      "Iterasjon  22  L =  95.94607245581369 \n",
      "Iterasjon  23  L =  95.94605933479723 \n",
      "Iterasjon  24  L =  95.94604621403793 \n",
      "Iterasjon  25  L =  95.94603309353303 \n",
      "Iterasjon  26  L =  95.94601997328013 \n",
      "Iterasjon  27  L =  95.94600685327713 \n",
      "Iterasjon  28  L =  95.9459937335221 \n",
      "Iterasjon  29  L =  95.94598061401344 \n",
      "Iterasjon  30  L =  95.94596749474961 \n",
      "Iterasjon  31  L =  95.94595437572929 \n",
      "Iterasjon  32  L =  95.94594125695131 \n",
      "Iterasjon  33  L =  95.94592813841456 \n",
      "Iterasjon  34  L =  95.94591502011802 \n",
      "Iterasjon  35  L =  95.9459019020609 \n",
      "Iterasjon  36  L =  95.9458887842423 \n",
      "Iterasjon  37  L =  95.94587566666164 \n",
      "Iterasjon  38  L =  95.94586254931814 \n",
      "Iterasjon  39  L =  95.94584943221125 \n",
      "Iterasjon  40  L =  95.94583631534036 \n",
      "Iterasjon  41  L =  95.94582319870506 \n",
      "Iterasjon  42  L =  95.94581008230489 \n",
      "Iterasjon  43  L =  95.94579696613944 \n",
      "Iterasjon  44  L =  95.94578385020826 \n",
      "Iterasjon  45  L =  95.94577073451111 \n",
      "Iterasjon  46  L =  95.94575761904757 \n",
      "Iterasjon  47  L =  95.94574450381745 \n",
      "Iterasjon  48  L =  95.94573138882046 \n",
      "Iterasjon  49  L =  95.94571827405633 \n",
      "Iterasjon  50  L =  95.94570515952488 \n",
      "Iterasjon  51  L =  95.94569204522587 \n",
      "Iterasjon  52  L =  95.94567893115916 \n",
      "Iterasjon  53  L =  95.94566581732462 \n",
      "Iterasjon  54  L =  95.94565270372205 \n",
      "Iterasjon  55  L =  95.94563959035125 \n",
      "Iterasjon  56  L =  95.94562647721227 \n",
      "Iterasjon  57  L =  95.94561336430488 \n",
      "Iterasjon  58  L =  95.94560025162902 \n",
      "Iterasjon  59  L =  95.94558713918461 \n",
      "Iterasjon  60  L =  95.94557402697153 \n",
      "Iterasjon  61  L =  95.94556091498984 \n",
      "Iterasjon  62  L =  95.94554780323931 \n",
      "Iterasjon  63  L =  95.94553469171996 \n",
      "Iterasjon  64  L =  95.94552158043183 \n",
      "Iterasjon  65  L =  95.94550846937477 \n",
      "Iterasjon  66  L =  95.94549535854885 \n",
      "Iterasjon  67  L =  95.94548224795398 \n",
      "Iterasjon  68  L =  95.94546913759015 \n",
      "Iterasjon  69  L =  95.94545602745738 \n",
      "Iterasjon  70  L =  95.94544291755567 \n",
      "Iterasjon  71  L =  95.94542980788496 \n",
      "Iterasjon  72  L =  95.94541669844531 \n",
      "Iterasjon  73  L =  95.94540358923675 \n",
      "Iterasjon  74  L =  95.9453904802592 \n",
      "Iterasjon  75  L =  95.94537737151275 \n",
      "Iterasjon  76  L =  95.94536426299743 \n",
      "Iterasjon  77  L =  95.94535115471328 \n",
      "Iterasjon  78  L =  95.94533804666027 \n",
      "Iterasjon  79  L =  95.94532493883838 \n",
      "Iterasjon  80  L =  95.94531183124779 \n",
      "Iterasjon  81  L =  95.94529872388844 \n",
      "Iterasjon  82  L =  95.94528561676039 \n",
      "Iterasjon  83  L =  95.94527250986367 \n",
      "Iterasjon  84  L =  95.94525940319834 \n",
      "Iterasjon  85  L =  95.94524629676445 \n",
      "Iterasjon  86  L =  95.94523319056204 \n",
      "Iterasjon  87  L =  95.94522008459121 \n",
      "Iterasjon  88  L =  95.94520697885186 \n",
      "Iterasjon  89  L =  95.94519387334418 \n",
      "Iterasjon  90  L =  95.9451807680683 \n",
      "Iterasjon  91  L =  95.94516766302407 \n",
      "Iterasjon  92  L =  95.94515455821171 \n",
      "Iterasjon  93  L =  95.94514145363117 \n",
      "Iterasjon  94  L =  95.94512834928263 \n",
      "Iterasjon  95  L =  95.94511524516605 \n",
      "Iterasjon  96  L =  95.94510214128157 \n",
      "Iterasjon  97  L =  95.94508903762912 \n",
      "Iterasjon  98  L =  95.94507593420894 \n",
      "Iterasjon  99  L =  95.94506283102108 \n"
     ]
    },
    {
     "ename": "NameError",
     "evalue": "name 'mean_losses_adding' is not defined",
     "output_type": "error",
     "traceback": [
      "\u001b[1;31m---------------------------------------------------------------------------\u001b[0m",
      "\u001b[1;31mNameError\u001b[0m                                 Traceback (most recent call last)",
      "Input \u001b[1;32mIn [2]\u001b[0m, in \u001b[0;36m<cell line: 5>\u001b[1;34m()\u001b[0m\n\u001b[0;32m      1\u001b[0m \u001b[38;5;28;01mfrom\u001b[39;00m \u001b[38;5;21;01mtraining_algorithm\u001b[39;00m \u001b[38;5;28;01mimport\u001b[39;00m TrainingAlgorithm, prosentSortetRight\n\u001b[0;32m      3\u001b[0m nn_adding, mean_losses_addding \u001b[38;5;241m=\u001b[39m TrainingAlgorithm(\u001b[38;5;241m0\u001b[39m)\n\u001b[1;32m----> 5\u001b[0m n \u001b[38;5;241m=\u001b[39m np\u001b[38;5;241m.\u001b[39marange(\u001b[38;5;241m1\u001b[39m, \u001b[38;5;28mlen\u001b[39m(\u001b[43mmean_losses_adding\u001b[49m)\u001b[38;5;241m+\u001b[39m\u001b[38;5;241m1\u001b[39m)\n\u001b[0;32m      7\u001b[0m plt\u001b[38;5;241m.\u001b[39mxlabel(\u001b[38;5;124m'\u001b[39m\u001b[38;5;124mAntall iterasjoner\u001b[39m\u001b[38;5;124m'\u001b[39m)\n\u001b[0;32m      8\u001b[0m plt\u001b[38;5;241m.\u001b[39mylabel(\u001b[38;5;124m'\u001b[39m\u001b[38;5;124mGjennomsnittlig verdi av L\u001b[39m\u001b[38;5;124m'\u001b[39m)\n",
      "\u001b[1;31mNameError\u001b[0m: name 'mean_losses_adding' is not defined"
     ]
    }
   ],
   "source": [
    "from training_algorithm import TrainingAlgorithm, prosentSortetRight\n",
    "\n",
    "nn_adding, mean_losses_adding = TrainingAlgorithm(0)\n",
    "\n",
    "n = np.arange(1, len(mean_losses_adding)+1)\n",
    "\n",
    "plt.xlabel('Antall iterasjoner')\n",
    "plt.ylabel('Gjennomsnittlig verdi av L')\n",
    "\n",
    "plt.plot(n, mean_losses_adding)\n",
    "\n",
    "'''\n",
    "prosent = prosentSortetRight(nn_adding)\n",
    "print(f'Prosentandel av input som ble riktig med nåværende modell: {prosent}')\n",
    "'''"
   ]
  },
  {
   "cell_type": "markdown",
   "metadata": {},
   "source": []
  }
 ],
 "metadata": {
  "kernelspec": {
   "display_name": "base",
   "language": "python",
   "name": "python3"
  },
  "language_info": {
   "codemirror_mode": {
    "name": "ipython",
    "version": 3
   },
   "file_extension": ".py",
   "mimetype": "text/x-python",
   "name": "python",
   "nbconvert_exporter": "python",
   "pygments_lexer": "ipython3",
   "version": "3.9.5"
  }
 },
 "nbformat": 4,
 "nbformat_minor": 2
}
