{
 "cells": [
  {
   "cell_type": "markdown",
   "metadata": {},
   "source": [
    "**Oppgave 3**"
   ]
  },
  {
   "cell_type": "markdown",
   "metadata": {},
   "source": [
    "Vi har i filene layers.py og neural_network definert nødvendige klasser med tilhørende medlemsfunksjoner til å trene en transformermodell til å predikere neste tall i en sekvens. Vi skal gjøre dette og begynner med å trene en modell til å kunne addere to heltall. Parameterne skal da oppdateres slik at loss funksjonen blir mindre og mindre. Vi plotter gjennomsnittet av lossfunksjonen for ... som funksjon av antall iterasjoner og ser at dette blir tilfelle."
   ]
  },
  {
   "cell_type": "code",
   "execution_count": null,
   "metadata": {},
   "outputs": [],
   "source": [
    "from training_algorithm import TrainingAlgorithmAdding, prosentSortetRight\n",
    "\n",
    "nn_adding, mean_losses_addding = TrainingAlgorithmAdding()\n",
    "\n",
    "n = np.np.arange(1, n+1)\n",
    "\n",
    "plt.xlabel('Antall iterasjoner')\n",
    "plt.ylabel('Gjennomsnittlig verdi av L')\n",
    "\n",
    "plt.plot(n, mean_losses_adding)\n",
    "\n",
    "prosent = prosentSortetRight(nn_adding)\n",
    "print(f'Prosentandel av input som ble riktig med nåværende modell: {prosent}')"
   ]
  },
  {
   "cell_type": "markdown",
   "metadata": {},
   "source": []
  }
 ],
 "metadata": {
  "kernelspec": {
   "display_name": "base",
   "language": "python",
   "name": "python3"
  },
  "language_info": {
   "codemirror_mode": {
    "name": "ipython",
    "version": 3
   },
   "file_extension": ".py",
   "mimetype": "text/x-python",
   "name": "python",
   "nbconvert_exporter": "python",
   "pygments_lexer": "ipython3",
   "version": "3.11.5"
  }
 },
 "nbformat": 4,
 "nbformat_minor": 2
}
