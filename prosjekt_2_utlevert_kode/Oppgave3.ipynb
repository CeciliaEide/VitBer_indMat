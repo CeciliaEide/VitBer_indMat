{
 "cells": [
  {
   "cell_type": "code",
   "execution_count": 1,
   "metadata": {},
   "outputs": [],
   "source": [
    "import numpy as np\n",
    "import matplotlib.pyplot as plt"
   ]
  },
  {
   "cell_type": "markdown",
   "metadata": {},
   "source": [
    "**Oppgave 3**"
   ]
  },
  {
   "cell_type": "markdown",
   "metadata": {},
   "source": [
    "Vi har i filene layers.py og neural_network definert nødvendige klasser med tilhørende medlemsfunksjoner til å trene en transformermodell til å predikere neste tall i en sekvens. Vi skal gjøre dette og begynner med å trene en modell til å kunne addere to heltall. Parameterne skal da oppdateres slik at loss funksjonen blir mindre og mindre. Vi plotter gjennomsnittet av lossfunksjonen for ... som funksjon av antall iterasjoner og ser at dette blir tilfelle."
   ]
  },
  {
   "cell_type": "code",
   "execution_count": 3,
   "metadata": {},
   "outputs": [
    {
     "name": "stdout",
     "output_type": "stream",
     "text": [
      "Iterasjon  0  L =  204.3398872002109 \n",
      "Iterasjon  1  L =  276.5644211702018 \n",
      "Iterasjon  2  L =  167.47450568520514 \n",
      "Iterasjon  3  L =  160.81421517474507 \n",
      "Iterasjon  4  L =  167.37220690712195 \n",
      "Iterasjon  5  L =  196.65802032558003 \n",
      "Iterasjon  6  L =  295.97536785209905 \n",
      "Iterasjon  7  L =  259.2036551494344 \n",
      "Iterasjon  8  L =  216.98633893471577 \n",
      "Iterasjon  9  L =  211.76624701470658 \n",
      "Iterasjon  10  L =  245.72123552674077 \n",
      "Iterasjon  11  L =  297.4226811155285 \n",
      "Iterasjon  12  L =  290.9231119552705 \n",
      "Iterasjon  13  L =  285.18831643340013 \n",
      "Iterasjon  14  L =  283.9613905725722 \n",
      "Iterasjon  15  L =  286.00912319238734 \n",
      "Iterasjon  16  L =  280.7935677549428 \n",
      "Iterasjon  17  L =  258.7560862399549 \n",
      "Iterasjon  18  L =  264.71840765261874 \n",
      "Iterasjon  19  L =  269.93487285313125 \n",
      "Iterasjon  20  L =  244.28867800474407 \n",
      "Iterasjon  21  L =  228.80424729377356 \n",
      "Iterasjon  22  L =  231.37721801088028 \n",
      "Iterasjon  23  L =  242.00739603743196 \n",
      "Iterasjon  24  L =  376.53327373203285 \n",
      "Iterasjon  25  L =  536.086663478395 \n",
      "Iterasjon  26  L =  949.1437680642608 \n",
      "Iterasjon  27  L =  2876.9494850851306 \n",
      "Iterasjon  28  L =  inf \n",
      "Iterasjon  29  L =  inf \n",
      "Iterasjon  30  L =  inf \n",
      "Iterasjon  31  L =  inf \n",
      "Iterasjon  32  L =  inf \n",
      "Iterasjon  33  L =  inf \n",
      "Iterasjon  34  L =  inf \n",
      "Iterasjon  35  L =  inf \n",
      "Iterasjon  36  L =  inf \n",
      "Iterasjon  37  L =  inf \n",
      "Iterasjon  38  L =  inf \n",
      "Iterasjon  39  L =  inf \n",
      "Iterasjon  40  L =  inf \n",
      "Iterasjon  41  L =  inf \n",
      "Iterasjon  42  L =  inf \n",
      "Iterasjon  43  L =  inf \n",
      "Iterasjon  44  L =  inf \n",
      "Iterasjon  45  L =  inf \n",
      "Iterasjon  46  L =  inf \n",
      "Iterasjon  47  L =  inf \n",
      "Iterasjon  48  L =  inf \n",
      "Iterasjon  49  L =  inf \n",
      "Iterasjon  50  L =  inf \n",
      "Iterasjon  51  L =  inf \n",
      "Iterasjon  52  L =  inf \n",
      "Iterasjon  53  L =  inf \n",
      "Iterasjon  54  L =  inf \n",
      "Iterasjon  55  L =  inf \n",
      "Iterasjon  56  L =  inf \n",
      "Iterasjon  57  L =  inf \n",
      "Iterasjon  58  L =  inf \n",
      "Iterasjon  59  L =  inf \n",
      "Iterasjon  60  L =  inf \n",
      "Iterasjon  61  L =  inf \n",
      "Iterasjon  62  L =  inf \n",
      "Iterasjon  63  L =  inf \n",
      "Iterasjon  64  L =  inf \n",
      "Iterasjon  65  L =  inf \n",
      "Iterasjon  66  L =  inf \n",
      "Iterasjon  67  L =  inf \n",
      "Iterasjon  68  L =  inf \n",
      "Iterasjon  69  L =  inf \n",
      "Iterasjon  70  L =  inf \n",
      "Iterasjon  71  L =  inf \n",
      "Iterasjon  72  L =  inf \n",
      "Iterasjon  73  L =  inf \n",
      "Iterasjon  74  L =  inf \n",
      "Iterasjon  75  L =  inf \n",
      "Iterasjon  76  L =  inf \n",
      "Iterasjon  77  L =  inf \n",
      "Iterasjon  78  L =  inf \n",
      "Iterasjon  79  L =  inf \n",
      "Iterasjon  80  L =  inf \n",
      "Iterasjon  81  L =  inf \n",
      "Iterasjon  82  L =  inf \n",
      "Iterasjon  83  L =  inf \n",
      "Iterasjon  84  L =  inf \n",
      "Iterasjon  85  L =  inf \n",
      "Iterasjon  86  L =  inf \n",
      "Iterasjon  87  L =  inf \n",
      "Iterasjon  88  L =  inf \n",
      "Iterasjon  89  L =  inf \n",
      "Iterasjon  90  L =  inf \n",
      "Iterasjon  91  L =  inf \n",
      "Iterasjon  92  L =  inf \n",
      "Iterasjon  93  L =  inf \n",
      "Iterasjon  94  L =  inf \n",
      "Iterasjon  95  L =  inf \n",
      "Iterasjon  96  L =  inf \n",
      "Iterasjon  97  L =  inf \n",
      "Iterasjon  98  L =  inf \n",
      "Iterasjon  99  L =  inf \n"
     ]
    },
    {
     "data": {
      "text/plain": [
       "\"\\nprosent = prosentSortetRight(nn_adding)\\nprint(f'Prosentandel av input som ble riktig med nåværende modell: {prosent}')\\n\""
      ]
     },
     "execution_count": 3,
     "metadata": {},
     "output_type": "execute_result"
    },
    {
     "data": {
      "image/png": "[encoded data removed]",
      "text/plain": [
       "<Figure size 640x480 with 1 Axes>"
      ]
     },
     "metadata": {},
     "output_type": "display_data"
    }
   ],
   "source": [
    "from training_algorithm import TrainingAlgorithm, prosentSortetRight\n",
    "\n",
    "nn_adding, mean_losses_adding = TrainingAlgorithm(0)\n",
    "\n",
    "n = np.arange(1, len(mean_losses_adding)+1)\n",
    "\n",
    "plt.xlabel('Antall iterasjoner')\n",
    "plt.ylabel('Gjennomsnittlig verdi av L')\n",
    "plt.yscale(\"log\")\n",
    "plt.plot(n, mean_losses_adding)\n",
    "\n",
    "'''\n",
    "prosent = prosentSortetRight(nn_adding)\n",
    "print(f'Prosentandel av input som ble riktig med nåværende modell: {prosent}')\n",
    "'''"
   ]
  },
  {
   "cell_type": "markdown",
   "metadata": {},
   "source": []
  }
 ],
 "metadata": {
  "kernelspec": {
   "display_name": "base",
   "language": "python",
   "name": "python3"
  },
  "language_info": {
   "codemirror_mode": {
    "name": "ipython",
    "version": 3
   },
   "file_extension": ".py",
   "mimetype": "text/x-python",
   "name": "python",
   "nbconvert_exporter": "python",
   "pygments_lexer": "ipython3",
   "version": "3.11.5"
  }
 },
 "nbformat": 4,
 "nbformat_minor": 2
}
