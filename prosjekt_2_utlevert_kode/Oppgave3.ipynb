{
 "cells": [
  {
   "cell_type": "code",
   "execution_count": null,
   "metadata": {},
   "outputs": [],
   "source": [
    "import numpy as np\n",
    "import matplotlib.pyplot as plt"
   ]
  },
  {
   "cell_type": "markdown",
   "metadata": {},
   "source": [
    "**Oppgave 3**"
   ]
  },
  {
   "cell_type": "markdown",
   "metadata": {},
   "source": [
    "Vi har i filene layers.py og neural_network definert nødvendige klasser med tilhørende medlemsfunksjoner til å trene en transformermodell til å predikere neste tall i en sekvens. Vi skal gjøre dette og begynner med å trene en modell til å kunne addere to heltall. Parameterne skal da oppdateres slik at loss funksjonen blir mindre og mindre. Vi plotter gjennomsnittet av lossfunksjonen for ... som funksjon av antall iterasjoner og ser at dette blir tilfelle."
   ]
  },
  {
   "cell_type": "code",
   "execution_count": 1,
   "metadata": {},
   "outputs": [
    {
     "ename": "TypeError",
     "evalue": "'float' object is not callable",
     "output_type": "error",
     "traceback": [
      "\u001b[1;31m---------------------------------------------------------------------------\u001b[0m",
      "\u001b[1;31mTypeError\u001b[0m                                 Traceback (most recent call last)",
      "Cell \u001b[1;32mIn[1], line 3\u001b[0m\n\u001b[0;32m      1\u001b[0m \u001b[38;5;28;01mfrom\u001b[39;00m \u001b[38;5;21;01mtraining_algorithm\u001b[39;00m \u001b[38;5;28;01mimport\u001b[39;00m TrainingAlgorithmAdding, prosentSortetRight\n\u001b[1;32m----> 3\u001b[0m nn_adding, mean_losses_addding \u001b[38;5;241m=\u001b[39m TrainingAlgorithmAdding(\u001b[38;5;241m0\u001b[39m)\n\u001b[0;32m      5\u001b[0m n \u001b[38;5;241m=\u001b[39m np\u001b[38;5;241m.\u001b[39marange(\u001b[38;5;241m1\u001b[39m, n\u001b[38;5;241m+\u001b[39m\u001b[38;5;241m1\u001b[39m)\n\u001b[0;32m      7\u001b[0m plt\u001b[38;5;241m.\u001b[39mxlabel(\u001b[38;5;124m'\u001b[39m\u001b[38;5;124mAntall iterasjoner\u001b[39m\u001b[38;5;124m'\u001b[39m)\n",
      "File \u001b[1;32mc:\\Users\\oskar\\OneDrive\\Dokumenter\\GitHub\\VitBer_indMat\\prosjekt_2_utlevert_kode\\training_algorithm.py:70\u001b[0m, in \u001b[0;36mTrainingAlgorithmAdding\u001b[1;34m(problem)\u001b[0m\n\u001b[0;32m     68\u001b[0m     dLdZ \u001b[38;5;241m=\u001b[39m loss\u001b[38;5;241m.\u001b[39mbackward()\n\u001b[0;32m     69\u001b[0m     nn\u001b[38;5;241m.\u001b[39mbackward(dLdZ)\n\u001b[1;32m---> 70\u001b[0m     nn\u001b[38;5;241m.\u001b[39mstep_adam(step_size)\n\u001b[0;32m     71\u001b[0m mean_loss \u001b[38;5;241m=\u001b[39m np\u001b[38;5;241m.\u001b[39mmean(losses)\n\u001b[0;32m     72\u001b[0m mean_losses[j] \u001b[38;5;241m=\u001b[39m mean_loss\n",
      "File \u001b[1;32mc:\\Users\\oskar\\OneDrive\\Dokumenter\\GitHub\\VitBer_indMat\\prosjekt_2_utlevert_kode\\neural_network.py:47\u001b[0m, in \u001b[0;36mNeuralNetwork.step_adam\u001b[1;34m(self, alpha)\u001b[0m\n\u001b[0;32m     44\u001b[0m \u001b[38;5;28;01mfor\u001b[39;00m layer \u001b[38;5;129;01min\u001b[39;00m \u001b[38;5;28mself\u001b[39m\u001b[38;5;241m.\u001b[39mlayers:\n\u001b[0;32m     45\u001b[0m     \u001b[38;5;66;03m#Check if layer is an instance of a class that has parameters\u001b[39;00m\n\u001b[0;32m     46\u001b[0m     \u001b[38;5;28;01mif\u001b[39;00m \u001b[38;5;28misinstance\u001b[39m(layer, (LinearLayer, EmbedPosition, FeedForward, Attention)):\n\u001b[1;32m---> 47\u001b[0m         layer\u001b[38;5;241m.\u001b[39mstep_adam(alpha)\n\u001b[0;32m     48\u001b[0m \u001b[38;5;28;01mreturn\u001b[39;00m\n",
      "File \u001b[1;32mc:\\Users\\oskar\\OneDrive\\Dokumenter\\GitHub\\VitBer_indMat\\prosjekt_2_utlevert_kode\\layers.py:353\u001b[0m, in \u001b[0;36mEmbedPosition.step_adam\u001b[1;34m(self, step_size)\u001b[0m\n\u001b[0;32m    351\u001b[0m \u001b[38;5;28;01mdef\u001b[39;00m \u001b[38;5;21mstep_adam\u001b[39m(\u001b[38;5;28mself\u001b[39m,step_size):\n\u001b[1;32m--> 353\u001b[0m     \u001b[38;5;28mself\u001b[39m\u001b[38;5;241m.\u001b[39membed\u001b[38;5;241m.\u001b[39mstep_adam(step_size)\n\u001b[0;32m    354\u001b[0m     \u001b[38;5;28msuper\u001b[39m()\u001b[38;5;241m.\u001b[39mstep_adam(step_size)\n",
      "File \u001b[1;32mc:\\Users\\oskar\\OneDrive\\Dokumenter\\GitHub\\VitBer_indMat\\prosjekt_2_utlevert_kode\\layers.py:57\u001b[0m, in \u001b[0;36mLayer.step_adam\u001b[1;34m(self, alpha)\u001b[0m\n\u001b[0;32m     54\u001b[0m M_j_hat \u001b[38;5;241m=\u001b[39m (\u001b[38;5;241m1\u001b[39m\u001b[38;5;241m/\u001b[39m(\u001b[38;5;241m1\u001b[39m\u001b[38;5;241m-\u001b[39m(b_1)\u001b[38;5;241m*\u001b[39m\u001b[38;5;241m*\u001b[39m\u001b[38;5;28mself\u001b[39m\u001b[38;5;241m.\u001b[39mj))\u001b[38;5;241m*\u001b[39mM_j\n\u001b[0;32m     55\u001b[0m V_j_hat \u001b[38;5;241m=\u001b[39m (\u001b[38;5;241m1\u001b[39m\u001b[38;5;241m/\u001b[39m(\u001b[38;5;241m1\u001b[39m\u001b[38;5;241m-\u001b[39m(b_2)\u001b[38;5;241m*\u001b[39m\u001b[38;5;241m*\u001b[39m\u001b[38;5;28mself\u001b[39m\u001b[38;5;241m.\u001b[39mj))\u001b[38;5;241m*\u001b[39mV_j\n\u001b[1;32m---> 57\u001b[0m \u001b[38;5;28mself\u001b[39m\u001b[38;5;241m.\u001b[39mparams[param][\u001b[38;5;124m'\u001b[39m\u001b[38;5;124mw\u001b[39m\u001b[38;5;124m'\u001b[39m] \u001b[38;5;241m-\u001b[39m\u001b[38;5;241m=\u001b[39m alpha(np\u001b[38;5;241m.\u001b[39mmultiply(M_j_hat,(np\u001b[38;5;241m.\u001b[39msqrt(V_j_hat)\u001b[38;5;241m+\u001b[39meps)))\n",
      "\u001b[1;31mTypeError\u001b[0m: 'float' object is not callable"
     ]
    }
   ],
   "source": [
    "from training_algorithm import TrainingAlgorithm, prosentSortetRight\n",
    "\n",
    "nn_adding, mean_losses_addding = TrainingAlgorithm(0)\n",
    "\n",
    "n = np.arange(1, n+1)\n",
    "\n",
    "plt.xlabel('Antall iterasjoner')\n",
    "plt.ylabel('Gjennomsnittlig verdi av L')\n",
    "\n",
    "plt.plot(n, mean_losses_adding)\n",
    "\n",
    "'''\n",
    "prosent = prosentSortetRight(nn_adding)\n",
    "print(f'Prosentandel av input som ble riktig med nåværende modell: {prosent}')\n",
    "'''"
   ]
  },
  {
   "cell_type": "markdown",
   "metadata": {},
   "source": []
  }
 ],
 "metadata": {
  "kernelspec": {
   "display_name": "base",
   "language": "python",
   "name": "python3"
  },
  "language_info": {
   "codemirror_mode": {
    "name": "ipython",
    "version": 3
   },
   "file_extension": ".py",
   "mimetype": "text/x-python",
   "name": "python",
   "nbconvert_exporter": "python",
   "pygments_lexer": "ipython3",
   "version": "3.9.5"
  }
 },
 "nbformat": 4,
 "nbformat_minor": 2
}
